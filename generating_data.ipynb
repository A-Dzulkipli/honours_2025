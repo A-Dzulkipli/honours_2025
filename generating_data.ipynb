{
 "cells": [
  {
   "cell_type": "code",
   "execution_count": 6,
   "id": "3d1598d0-e5c6-4092-851c-8e28f6cad88c",
   "metadata": {},
   "outputs": [],
   "source": [
    "import pandas as pd\n",
    "import numpy as np\n",
    "from utils.data_generation import *"
   ]
  },
  {
   "cell_type": "code",
   "execution_count": 7,
   "id": "b6246627-c2b6-4667-ae5c-26285fca64b1",
   "metadata": {},
   "outputs": [],
   "source": [
    "n, nt, d = 1, 5000, 20\n",
    "\n",
    "Xqt, t = generate_time_varying_ggm(n, nt, d, 0.023, 2)\n",
    "\n",
    "records = []\n",
    "\n",
    "for sample_idx in range(n):\n",
    "    for i in range(nt):\n",
    "        rec = {\n",
    "            'sample': sample_idx,\n",
    "            'time': float(t[i])\n",
    "        }\n",
    "        for j in range(d):\n",
    "            rec[f\"x_{j}\"] = float(Xqt[sample_idx, j, i])\n",
    "        records.append(rec)\n",
    "\n",
    "df = pd.DataFrame.from_records(records)\n",
    "\n",
    "df.to_parquet(\"sample_data_0.parquet\")"
   ]
  },
  {
   "cell_type": "code",
   "execution_count": null,
   "id": "ed0c41a2-cdb3-4dca-b162-940882df6164",
   "metadata": {},
   "outputs": [],
   "source": []
  }
 ],
 "metadata": {
  "kernelspec": {
   "display_name": "Python 3 (ipykernel)",
   "language": "python",
   "name": "python3"
  },
  "language_info": {
   "codemirror_mode": {
    "name": "ipython",
    "version": 3
   },
   "file_extension": ".py",
   "mimetype": "text/x-python",
   "name": "python",
   "nbconvert_exporter": "python",
   "pygments_lexer": "ipython3",
   "version": "3.12.2"
  }
 },
 "nbformat": 4,
 "nbformat_minor": 5
}
